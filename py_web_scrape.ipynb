{
  "cells": [
    {
      "cell_type": "markdown",
      "metadata": {
        "id": "Zkj22nvp79Ri"
      },
      "source": [
        "## **Scraping Wisdom Pet Medicine Website (wisdompetmed.com)**"
      ]
    },
    {
      "cell_type": "markdown",
      "metadata": {
        "id": "aS61kKUx8GR5"
      },
      "source": [
        "Understanding the Requests Package"
      ]
    },
    {
      "cell_type": "code",
      "execution_count": null,
      "metadata": {
        "id": "LStEn-h97z2t"
      },
      "outputs": [],
      "source": [
        "%pip install requests"
      ]
    },
    {
      "cell_type": "code",
      "execution_count": null,
      "metadata": {
        "colab": {
          "background_save": true
        },
        "id": "iumpQb4i8WkK"
      },
      "outputs": [],
      "source": [
        "import requests"
      ]
    },
    {
      "cell_type": "code",
      "execution_count": null,
      "metadata": {
        "colab": {
          "background_save": true
        },
        "id": "JbV0iHX98xNy"
      },
      "outputs": [],
      "source": [
        "requests.get('http://www.wisdompetmed.com')"
      ]
    },
    {
      "cell_type": "code",
      "execution_count": null,
      "metadata": {
        "colab": {
          "background_save": true
        },
        "id": "QljhIZ1682Kx"
      },
      "outputs": [],
      "source": [
        "#store requests.get into resposne and check url with response.url\n",
        "response = requests.get('http://www.wisdompetmed.com')\n",
        "response.url"
      ]
    },
    {
      "cell_type": "code",
      "execution_count": null,
      "metadata": {
        "colab": {
          "background_save": true
        },
        "id": "aP5pYTzF9UEE"
      },
      "outputs": [],
      "source": [
        "#retrieve status code for wisdompetmed.com\n",
        "response.status_code\n",
        "#"
      ]
    },
    {
      "cell_type": "markdown",
      "metadata": {
        "id": "Bv8RE8ze9i6G"
      },
      "source": [
        "Status Code Breakdown\n",
        "- Always 3 digits long with 2 parts\n",
        "- First number indicates the 'category'\n",
        "  - start with 2 is success response\n",
        "- last 2 numbers indicate 'description'\n",
        "  - 00 stands for OK without other distinctions\n",
        "- **100 - 199:** Information Codes\n",
        "  - usually used to communicate in the backend so we don't work with it directly most likely\n",
        "- **200 - 299:** Successful Codes\n",
        "- **300 - 399:** Redirection Codes\n",
        "- **400 - 499:** Client Error Codes\n",
        "- **500 - 599:** Server Error Codes\n",
        "\n",
        "- Check out the HTTP Status messages in w3schools.com"
      ]
    },
    {
      "cell_type": "code",
      "execution_count": null,
      "metadata": {
        "colab": {
          "background_save": true
        },
        "id": "wq9XZ3wK9f6O"
      },
      "outputs": [],
      "source": [
        "#retrieve headers of Wisdom Pet Medicine Website\n",
        "#headers provides tech info about webpage in Python dictionary form\n",
        "response.headers"
      ]
    },
    {
      "cell_type": "markdown",
      "metadata": {
        "id": "uoADz-Qq-nLy"
      },
      "source": [
        "## Retrieving HTML Code"
      ]
    },
    {
      "cell_type": "code",
      "execution_count": null,
      "metadata": {
        "id": "2GYI4We2-rbw"
      },
      "outputs": [],
      "source": [
        "#retrieve content from website\n",
        "#response.content provides byte form HTML code\n",
        "response.content"
      ]
    },
    {
      "cell_type": "code",
      "execution_count": null,
      "metadata": {
        "id": "xOyAYzf8-yLT"
      },
      "outputs": [],
      "source": [
        "#retrieve content with response.text to get it in string form\n",
        "#instead of byte form\n",
        "response.text"
      ]
    },
    {
      "cell_type": "markdown",
      "metadata": {
        "id": "02mZa9_L--oZ"
      },
      "source": [
        "## Using BeautifulSoup to Beautify HTML"
      ]
    },
    {
      "cell_type": "code",
      "execution_count": null,
      "metadata": {
        "id": "mOjOdhCl_Cs1"
      },
      "outputs": [],
      "source": [
        "#install beautifulSoup package\n",
        "%pip install bs4"
      ]
    },
    {
      "cell_type": "code",
      "execution_count": null,
      "metadata": {
        "id": "6Eeb7aZh_J2i"
      },
      "outputs": [],
      "source": [
        "#import BeautifulSoup package\n",
        "from bs4 import BeautifulSoup"
      ]
    },
    {
      "cell_type": "code",
      "execution_count": null,
      "metadata": {
        "id": "ud2IoMjE_Px-"
      },
      "outputs": [],
      "source": [
        "#Bring in HTML code with BeautifulSoup\n",
        "soup = BeautifulSoup(response.text)"
      ]
    },
    {
      "cell_type": "code",
      "execution_count": null,
      "metadata": {
        "id": "XKQWM3uj_Vcf"
      },
      "outputs": [],
      "source": [
        "#Prettify the HTML code with BeautifulSoup\n",
        "print(soup.prettify())"
      ]
    },
    {
      "cell_type": "markdown",
      "metadata": {
        "id": "2mpXwv1W_lpA"
      },
      "source": [
        "## find() & find_all() methods"
      ]
    },
    {
      "cell_type": "code",
      "execution_count": null,
      "metadata": {
        "colab": {
          "base_uri": "https://localhost:8080/"
        },
        "id": "JbL-sv1J_oOC",
        "outputId": "7e57deae-b36a-48e9-ccf7-5211688f3ca1"
      },
      "outputs": [
        {
          "output_type": "execute_result",
          "data": {
            "text/plain": [
              "<title>Wisdom Pet Medicine</title>"
            ]
          },
          "metadata": {},
          "execution_count": 34
        }
      ],
      "source": [
        "#find where first title tag occurs in code for vet business name\n",
        "soup.find(\"title\")"
      ]
    },
    {
      "cell_type": "code",
      "source": [
        "#find all article tags that list services\n",
        "soup.find_all(\"article\")"
      ],
      "metadata": {
        "id": "LV24g6sdB-YE"
      },
      "execution_count": null,
      "outputs": []
    },
    {
      "cell_type": "code",
      "source": [
        "#find the business phone number and print it nicely\n",
        "#by using span tag, class number, and convert to .text\n",
        "print(soup.find(\"span\",class_=\"phone\").text)"
      ],
      "metadata": {
        "id": "Isw63kvrCIfj"
      },
      "execution_count": null,
      "outputs": []
    },
    {
      "cell_type": "markdown",
      "source": [
        "## looping find_all()"
      ],
      "metadata": {
        "id": "teBiS8ewCVCk"
      }
    },
    {
      "cell_type": "code",
      "source": [
        "#find all featured testimonials\n",
        "featured_testimonial = soup.find_all(\"div\",class_=\"quote\")\n",
        "for testimonial in featured_testimonial:\n",
        "  print(testimonial.text)"
      ],
      "metadata": {
        "id": "ru1Y7auRCT4k"
      },
      "execution_count": null,
      "outputs": []
    },
    {
      "cell_type": "code",
      "source": [
        "#find all staff members\n",
        "staff = soup.find_all(\"div\",class_=\"info col-xs-8 col-xs-offset-2 col-sm-7 col-sm-offset-0 col-md-6 col-lg-8\")\n",
        "for s in staff:\n",
        "  print(s.text)"
      ],
      "metadata": {
        "id": "cH-2B14vCfQi"
      },
      "execution_count": null,
      "outputs": []
    },
    {
      "cell_type": "markdown",
      "source": [
        "## Retrive Webpage Links"
      ],
      "metadata": {
        "id": "FzMbdcDGC59o"
      }
    },
    {
      "cell_type": "code",
      "source": [
        "#find all links on the page\n",
        "links = soup.find_all(\"a\")\n",
        "for link in links:\n",
        "  print(link.text, link.get('href'))"
      ],
      "metadata": {
        "id": "LecyxnPFC8aZ"
      },
      "execution_count": null,
      "outputs": []
    },
    {
      "cell_type": "markdown",
      "source": [
        "## write HTML code to text file"
      ],
      "metadata": {
        "id": "pMzzbIluDOEj"
      }
    },
    {
      "cell_type": "code",
      "source": [
        "#write HTML code we pulled to text file\n",
        "with open(\"wisdom_vet.txt\",\"w\") as f:\n",
        "  f.write(soup.prettify())"
      ],
      "metadata": {
        "id": "ZxH8e8tMDQGu"
      },
      "execution_count": null,
      "outputs": []
    }
  ],
  "metadata": {
    "colab": {
      "provenance": []
    },
    "kernelspec": {
      "display_name": "Python 3",
      "name": "python3"
    },
    "language_info": {
      "name": "python"
    }
  },
  "nbformat": 4,
  "nbformat_minor": 0
}